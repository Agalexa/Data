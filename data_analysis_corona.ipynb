{
 "cells": [
  {
   "cell_type": "code",
   "execution_count": 2,
   "metadata": {},
   "outputs": [],
   "source": [
    "import pandas as pd \n",
    "confirm_df = pd.read_csv(\"COVID-19/csse_covid_19_data/csse_covid_19_time_series/time_series_19-covid-confirmed.csv\")\n",
    "death_df = pd.read_csv(\"COVID-19/csse_covid_19_data/csse_covid_19_time_series/time_series_19-covid-Deaths.csv\")\n",
    "recov_df = pd.read_csv(\"COVID-19/csse_covid_19_data/csse_covid_19_time_series/time_series_19-covid-Recovered.csv\")\n",
    "df = pd.read_csv(\"COVID-19/csse_covid_19_data/csse_covid_19_daily_reports/most_recent.csv\")\n",
    "\n",
    "korea_df = pd.read_csv(\"coronavirusdataset/PatientInfo.csv\")\n",
    "country_df = pd.read_csv('info/info.csv')\n"
   ]
  },
  {
   "cell_type": "code",
   "execution_count": 3,
   "metadata": {},
   "outputs": [],
   "source": [
    "china_df = df [ df['Country/Region'] == \"China\"]"
   ]
  },
  {
   "cell_type": "code",
   "execution_count": 4,
   "metadata": {},
   "outputs": [],
   "source": [
    "china_list_number = len(china_df['Confirmed'])"
   ]
  },
  {
   "cell_type": "code",
   "execution_count": 8,
   "metadata": {},
   "outputs": [
    {
     "name": "stdout",
     "output_type": "stream",
     "text": [
      "Total number of deaths in china is: 3259\n"
     ]
    }
   ],
   "source": [
    "i = 0\n",
    "sum = 0\n",
    "while (i < china_list_number):\n",
    "    sum = sum + china_df['Deaths'].iloc[i]\n",
    "    i = i + 1\n",
    "\n",
    "print (\"Total number of deaths in china is: \"+str(sum))"
   ]
  },
  {
   "cell_type": "code",
   "execution_count": 9,
   "metadata": {},
   "outputs": [],
   "source": [
    "US_df = df [ df['Country/Region'] == \"US\"]\n",
    "US_list_number = len(US_df['Confirmed'])"
   ]
  },
  {
   "cell_type": "code",
   "execution_count": 10,
   "metadata": {},
   "outputs": [
    {
     "data": {
      "text/html": [
       "<div>\n",
       "<style scoped>\n",
       "    .dataframe tbody tr th:only-of-type {\n",
       "        vertical-align: middle;\n",
       "    }\n",
       "\n",
       "    .dataframe tbody tr th {\n",
       "        vertical-align: top;\n",
       "    }\n",
       "\n",
       "    .dataframe thead th {\n",
       "        text-align: right;\n",
       "    }\n",
       "</style>\n",
       "<table border=\"1\" class=\"dataframe\">\n",
       "  <thead>\n",
       "    <tr style=\"text-align: right;\">\n",
       "      <th></th>\n",
       "      <th>Province/State</th>\n",
       "      <th>Country/Region</th>\n",
       "      <th>Last Update</th>\n",
       "      <th>Confirmed</th>\n",
       "      <th>Deaths</th>\n",
       "      <th>Recovered</th>\n",
       "      <th>Latitude</th>\n",
       "      <th>Longitude</th>\n",
       "    </tr>\n",
       "  </thead>\n",
       "  <tbody>\n",
       "    <tr>\n",
       "      <th>0</th>\n",
       "      <td>Hubei</td>\n",
       "      <td>China</td>\n",
       "      <td>2020-03-21T10:13:08</td>\n",
       "      <td>67800</td>\n",
       "      <td>3139</td>\n",
       "      <td>58946</td>\n",
       "      <td>30.9756</td>\n",
       "      <td>112.2707</td>\n",
       "    </tr>\n",
       "    <tr>\n",
       "      <th>1</th>\n",
       "      <td>NaN</td>\n",
       "      <td>Italy</td>\n",
       "      <td>2020-03-21T17:43:03</td>\n",
       "      <td>53578</td>\n",
       "      <td>4825</td>\n",
       "      <td>6072</td>\n",
       "      <td>41.8719</td>\n",
       "      <td>12.5674</td>\n",
       "    </tr>\n",
       "    <tr>\n",
       "      <th>2</th>\n",
       "      <td>NaN</td>\n",
       "      <td>Spain</td>\n",
       "      <td>2020-03-21T13:13:30</td>\n",
       "      <td>25374</td>\n",
       "      <td>1375</td>\n",
       "      <td>2125</td>\n",
       "      <td>40.4637</td>\n",
       "      <td>-3.7492</td>\n",
       "    </tr>\n",
       "    <tr>\n",
       "      <th>3</th>\n",
       "      <td>NaN</td>\n",
       "      <td>Germany</td>\n",
       "      <td>2020-03-21T20:43:02</td>\n",
       "      <td>22213</td>\n",
       "      <td>84</td>\n",
       "      <td>233</td>\n",
       "      <td>51.1657</td>\n",
       "      <td>10.4515</td>\n",
       "    </tr>\n",
       "    <tr>\n",
       "      <th>4</th>\n",
       "      <td>NaN</td>\n",
       "      <td>Iran</td>\n",
       "      <td>2020-03-21T11:13:12</td>\n",
       "      <td>20610</td>\n",
       "      <td>1556</td>\n",
       "      <td>7635</td>\n",
       "      <td>32.4279</td>\n",
       "      <td>53.6880</td>\n",
       "    </tr>\n",
       "    <tr>\n",
       "      <th>...</th>\n",
       "      <td>...</td>\n",
       "      <td>...</td>\n",
       "      <td>...</td>\n",
       "      <td>...</td>\n",
       "      <td>...</td>\n",
       "      <td>...</td>\n",
       "      <td>...</td>\n",
       "      <td>...</td>\n",
       "    </tr>\n",
       "    <tr>\n",
       "      <th>299</th>\n",
       "      <td>NaN</td>\n",
       "      <td>Jersey</td>\n",
       "      <td>2020-03-17T18:33:03</td>\n",
       "      <td>0</td>\n",
       "      <td>0</td>\n",
       "      <td>0</td>\n",
       "      <td>49.1900</td>\n",
       "      <td>-2.1100</td>\n",
       "    </tr>\n",
       "    <tr>\n",
       "      <th>300</th>\n",
       "      <td>NaN</td>\n",
       "      <td>Puerto Rico</td>\n",
       "      <td>2020-03-17T16:13:14</td>\n",
       "      <td>0</td>\n",
       "      <td>0</td>\n",
       "      <td>0</td>\n",
       "      <td>18.2000</td>\n",
       "      <td>-66.5000</td>\n",
       "    </tr>\n",
       "    <tr>\n",
       "      <th>301</th>\n",
       "      <td>NaN</td>\n",
       "      <td>Republic of the Congo</td>\n",
       "      <td>2020-03-17T21:33:03</td>\n",
       "      <td>0</td>\n",
       "      <td>0</td>\n",
       "      <td>0</td>\n",
       "      <td>-1.4400</td>\n",
       "      <td>15.5560</td>\n",
       "    </tr>\n",
       "    <tr>\n",
       "      <th>302</th>\n",
       "      <td>NaN</td>\n",
       "      <td>The Bahamas</td>\n",
       "      <td>2020-03-19T12:13:38</td>\n",
       "      <td>0</td>\n",
       "      <td>0</td>\n",
       "      <td>0</td>\n",
       "      <td>24.2500</td>\n",
       "      <td>-76.0000</td>\n",
       "    </tr>\n",
       "    <tr>\n",
       "      <th>303</th>\n",
       "      <td>NaN</td>\n",
       "      <td>The Gambia</td>\n",
       "      <td>2020-03-18T14:13:56</td>\n",
       "      <td>0</td>\n",
       "      <td>0</td>\n",
       "      <td>0</td>\n",
       "      <td>13.4667</td>\n",
       "      <td>-16.6000</td>\n",
       "    </tr>\n",
       "  </tbody>\n",
       "</table>\n",
       "<p>304 rows × 8 columns</p>\n",
       "</div>"
      ],
      "text/plain": [
       "    Province/State         Country/Region          Last Update  Confirmed  \\\n",
       "0            Hubei                  China  2020-03-21T10:13:08      67800   \n",
       "1              NaN                  Italy  2020-03-21T17:43:03      53578   \n",
       "2              NaN                  Spain  2020-03-21T13:13:30      25374   \n",
       "3              NaN                Germany  2020-03-21T20:43:02      22213   \n",
       "4              NaN                   Iran  2020-03-21T11:13:12      20610   \n",
       "..             ...                    ...                  ...        ...   \n",
       "299            NaN                 Jersey  2020-03-17T18:33:03          0   \n",
       "300            NaN            Puerto Rico  2020-03-17T16:13:14          0   \n",
       "301            NaN  Republic of the Congo  2020-03-17T21:33:03          0   \n",
       "302            NaN            The Bahamas  2020-03-19T12:13:38          0   \n",
       "303            NaN             The Gambia  2020-03-18T14:13:56          0   \n",
       "\n",
       "     Deaths  Recovered  Latitude  Longitude  \n",
       "0      3139      58946   30.9756   112.2707  \n",
       "1      4825       6072   41.8719    12.5674  \n",
       "2      1375       2125   40.4637    -3.7492  \n",
       "3        84        233   51.1657    10.4515  \n",
       "4      1556       7635   32.4279    53.6880  \n",
       "..      ...        ...       ...        ...  \n",
       "299       0          0   49.1900    -2.1100  \n",
       "300       0          0   18.2000   -66.5000  \n",
       "301       0          0   -1.4400    15.5560  \n",
       "302       0          0   24.2500   -76.0000  \n",
       "303       0          0   13.4667   -16.6000  \n",
       "\n",
       "[304 rows x 8 columns]"
      ]
     },
     "execution_count": 10,
     "metadata": {},
     "output_type": "execute_result"
    }
   ],
   "source": [
    "df"
   ]
  },
  {
   "cell_type": "code",
   "execution_count": 11,
   "metadata": {},
   "outputs": [
    {
     "name": "stdout",
     "output_type": "stream",
     "text": [
      "Total number of cases in US is: 25493\n"
     ]
    }
   ],
   "source": [
    "k = 0\n",
    "sum = 0\n",
    "while (k < US_list_number):\n",
    "    sum = sum + US_df['Confirmed'].iloc[k]\n",
    "    k = k + 1\n",
    "\n",
    "print (\"Total number of cases in US is: \"+str(sum))\n"
   ]
  },
  {
   "cell_type": "code",
   "execution_count": 12,
   "metadata": {},
   "outputs": [
    {
     "name": "stdout",
     "output_type": "stream",
     "text": [
      "Total number of deaths in US is: 307\n"
     ]
    }
   ],
   "source": [
    "k = 0\n",
    "sum = 0\n",
    "while (k < US_list_number):\n",
    "    sum = sum + US_df['Deaths'].iloc[k]\n",
    "    k = k + 1\n",
    "\n",
    "print (\"Total number of deaths in US is: \"+str(sum))"
   ]
  },
  {
   "cell_type": "code",
   "execution_count": 13,
   "metadata": {},
   "outputs": [],
   "source": [
    "def total_sum(vari1,vari2,vari3):\n",
    "    k = 0\n",
    "    sum = 0\n",
    "    while (k < vari1):\n",
    "        sum = sum + vari2[vari3].iloc[k]\n",
    "        k = k + 1\n",
    "\n",
    "    return sum"
   ]
  },
  {
   "cell_type": "code",
   "execution_count": 14,
   "metadata": {},
   "outputs": [
    {
     "name": "stdout",
     "output_type": "stream",
     "text": [
      "307\n"
     ]
    }
   ],
   "source": [
    "print (total_sum(US_list_number, US_df, 'Deaths'))"
   ]
  },
  {
   "cell_type": "code",
   "execution_count": null,
   "metadata": {},
   "outputs": [],
   "source": [
    "\n"
   ]
  },
  {
   "cell_type": "code",
   "execution_count": null,
   "metadata": {},
   "outputs": [],
   "source": []
  },
  {
   "cell_type": "code",
   "execution_count": 15,
   "metadata": {},
   "outputs": [],
   "source": [
    "korea_df['state']\n",
    "china_df = df [ df['Country/Region'] == \"China\"]\n",
    "kdeath_df = korea_df [ korea_df['state'] == 'deceased']"
   ]
  },
  {
   "cell_type": "code",
   "execution_count": 16,
   "metadata": {},
   "outputs": [
    {
     "data": {
      "text/plain": [
       "2243"
      ]
     },
     "execution_count": 16,
     "metadata": {},
     "output_type": "execute_result"
    }
   ],
   "source": [
    "len(korea_df['sex']) "
   ]
  },
  {
   "cell_type": "code",
   "execution_count": 17,
   "metadata": {},
   "outputs": [
    {
     "name": "stdout",
     "output_type": "stream",
     "text": [
      "yes\n"
     ]
    }
   ],
   "source": [
    "if (korea_df['sex'].iloc[1] == 'male'):\n",
    "    print ('yes')\n",
    "else:\n",
    "    print ('fail')"
   ]
  },
  {
   "cell_type": "code",
   "execution_count": 21,
   "metadata": {},
   "outputs": [
    {
     "name": "stdout",
     "output_type": "stream",
     "text": [
      "937\n",
      "1210\n"
     ]
    }
   ],
   "source": [
    "k = 0\n",
    "male_sum = 0\n",
    "female_sum = 0\n",
    "\n",
    "while (k < len(korea_df['sex'])):\n",
    "    if (korea_df['sex'].iloc[k] == 'male'):\n",
    "        male_sum = male_sum + 1\n",
    "        k = k + 1\n",
    "    elif (korea_df['sex'].iloc[k] == 'female'):\n",
    "        female_sum = female_sum + 1\n",
    "        k = k + 1\n",
    "    else:\n",
    "        k = k + 1\n",
    "\n",
    "'''\n",
    "print (male_sum)\n",
    "print (female_sum)\n",
    "korean male/female ratio of 0.775/1.0\n",
    "'''"
   ]
  },
  {
   "cell_type": "code",
   "execution_count": 35,
   "metadata": {},
   "outputs": [
    {
     "name": "stdout",
     "output_type": "stream",
     "text": [
      "yes\n"
     ]
    }
   ],
   "source": [
    "if((korea_df['birth_year'].iloc[0] < 1965) and (korea_df['birth_year'].iloc[0] > 1963)):\n",
    "    print ('yes')"
   ]
  },
  {
   "cell_type": "code",
   "execution_count": 42,
   "metadata": {},
   "outputs": [
    {
     "name": "stdout",
     "output_type": "stream",
     "text": [
      "31\n",
      "109\n",
      "389\n",
      "234\n",
      "281\n",
      "362\n",
      "197\n",
      "102\n",
      "73\n",
      "10\n",
      "1\n"
     ]
    }
   ],
   "source": [
    "k = 0\n",
    "under_ten = 0\n",
    "tens = 0\n",
    "twenties = 0\n",
    "thirties = 0\n",
    "fourties = 0\n",
    "fifties = 0\n",
    "sixties = 0\n",
    "seventies = 0\n",
    "eighties = 0\n",
    "ninties = 0\n",
    "over_hundred = 0\n",
    "birth = korea_df['birth_year']\n",
    "while (k < len(korea_df['birth_year'])):\n",
    "    if (birth.iloc[k] == ''):\n",
    "        k = k + 1\n",
    "    elif (birth.iloc[k] >= 2010):\n",
    "        under_ten = under_ten + 1\n",
    "        k = k + 1\n",
    "    elif ((birth.iloc[k] < 2010) and (birth.iloc[k] >= 2000 )):\n",
    "        tens = tens + 1\n",
    "        k = k + 1\n",
    "    elif ((birth.iloc[k] < 2000) and (birth.iloc[k] >= 1990 )):\n",
    "        twenties = twenties + 1\n",
    "        k = k + 1\n",
    "    elif ((birth.iloc[k] < 1990) and (birth.iloc[k] >= 1980 )):\n",
    "        thirties = thirties + 1\n",
    "        k = k + 1    \n",
    "    elif ((birth.iloc[k] < 1980) and (birth.iloc[k] >= 1970 )):\n",
    "        fourties = fourties + 1\n",
    "        k = k + 1\n",
    "    elif ((birth.iloc[k] < 1970) and (birth.iloc[k] >= 1960 )):\n",
    "        fifties = fifties + 1\n",
    "        k = k + 1\n",
    "    elif ((birth.iloc[k] < 1960) and (birth.iloc[k] >= 1950 )):\n",
    "        sixties = sixties + 1\n",
    "        k = k + 1\n",
    "    elif ((birth.iloc[k] < 1950) and (birth.iloc[k] >= 1940 )):\n",
    "        seventies = seventies + 1\n",
    "        k = k + 1\n",
    "    elif ((birth.iloc[k] < 1940) and (birth.iloc[k] >= 1930 )):\n",
    "        eighties = eighties + 1\n",
    "        k = k + 1\n",
    "    elif ((birth.iloc[k] < 1930) and (birth.iloc[k] >= 1920 )):\n",
    "        ninties = ninties + 1\n",
    "        k = k + 1\n",
    "    elif (birth.iloc[k] < 1920):\n",
    "        over_hundred = over_hundred + 1\n",
    "        k = k + 1   \n",
    "    else:\n",
    "        k = k + 1\n",
    "\n",
    "'''\n",
    "print (under_ten)\n",
    "print (tens)\n",
    "print (twenties)\n",
    "print (thirties)\n",
    "print (fourties)\n",
    "print (fifties)\n",
    "print (sixties)\n",
    "print (seventies)\n",
    "print (eighties)\n",
    "print (ninties)\n",
    "print (over_hundred)\n",
    "majority of cases are between 20 and 60. \n",
    "'''"
   ]
  },
  {
   "cell_type": "code",
   "execution_count": null,
   "metadata": {},
   "outputs": [],
   "source": []
  },
  {
   "cell_type": "code",
   "execution_count": null,
   "metadata": {},
   "outputs": [],
   "source": []
  }
 ],
 "metadata": {
  "kernelspec": {
   "display_name": "Python 3",
   "language": "python",
   "name": "python3"
  },
  "language_info": {
   "codemirror_mode": {
    "name": "ipython",
    "version": 3
   },
   "file_extension": ".py",
   "mimetype": "text/x-python",
   "name": "python",
   "nbconvert_exporter": "python",
   "pygments_lexer": "ipython3",
   "version": "3.7.6"
  }
 },
 "nbformat": 4,
 "nbformat_minor": 4
}
