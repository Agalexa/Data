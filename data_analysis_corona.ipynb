{
 "cells": [
  {
   "cell_type": "code",
   "execution_count": 87,
   "metadata": {},
   "outputs": [],
   "source": [
    "import pandas as pd \n",
    "confirm_df = pd.read_csv(\"COVID-19/csse_covid_19_data/csse_covid_19_time_series/time_series_19-covid-confirmed.csv\")\n",
    "death_df = pd.read_csv(\"COVID-19/csse_covid_19_data/csse_covid_19_time_series/time_series_19-covid-Deaths.csv\")\n",
    "recov_df = pd.read_csv(\"COVID-19/csse_covid_19_data/csse_covid_19_time_series/time_series_19-covid-Recovered.csv\")\n",
    "df = pd.read_csv(\"COVID-19/csse_covid_19_data/csse_covid_19_daily_reports/most_recent.csv\")\n",
    "\n",
    "korea_df = pd.read_csv(\"coronavirusdataset/PatientInfo.csv\")\n",
    "country_df = pd.read_csv('info/info.csv')\n"
   ]
  },
  {
   "cell_type": "code",
   "execution_count": 44,
   "metadata": {},
   "outputs": [],
   "source": [
    "china_df = df [ df['Country/Region'] == \"China\"]"
   ]
  },
  {
   "cell_type": "code",
   "execution_count": 45,
   "metadata": {},
   "outputs": [],
   "source": [
    "china_list_number = len(china_df['Confirmed'])"
   ]
  },
  {
   "cell_type": "code",
   "execution_count": 67,
   "metadata": {},
   "outputs": [
    {
     "name": "stdout",
     "output_type": "stream",
     "text": [
      "Total number of deaths in china is: 3259\n"
     ]
    }
   ],
   "source": [
    "i = 0\n",
    "sum = 0\n",
    "while (i < china_list_number):\n",
    "    sum = sum + china_df['Deaths'].iloc[i]\n",
    "    i = i + 1\n",
    "\n",
    "print (\"Total number of deaths in china is: \"+str(sum))"
   ]
  },
  {
   "cell_type": "code",
   "execution_count": 50,
   "metadata": {},
   "outputs": [],
   "source": [
    "US_df = df [ df['Country/Region'] == \"US\"]\n",
    "US_list_number = len(US_df['Confirmed'])"
   ]
  },
  {
   "cell_type": "code",
   "execution_count": null,
   "metadata": {},
   "outputs": [],
   "source": []
  },
  {
   "cell_type": "code",
   "execution_count": 61,
   "metadata": {},
   "outputs": [
    {
     "name": "stdout",
     "output_type": "stream",
     "text": [
      "Total number of cases in US is: 25493\n"
     ]
    }
   ],
   "source": [
    "k = 0\n",
    "sum = 0\n",
    "while (k < US_list_number):\n",
    "    sum = sum + US_df['Confirmed'].iloc[k]\n",
    "    k = k + 1\n",
    "\n",
    "print (\"Total number of cases in US is: \"+str(sum))\n"
   ]
  },
  {
   "cell_type": "code",
   "execution_count": 63,
   "metadata": {},
   "outputs": [
    {
     "name": "stdout",
     "output_type": "stream",
     "text": [
      "Total number of deaths in US is: 307\n"
     ]
    }
   ],
   "source": [
    "k = 0\n",
    "sum = 0\n",
    "while (k < US_list_number):\n",
    "    sum = sum + US_df['Deaths'].iloc[k]\n",
    "    k = k + 1\n",
    "\n",
    "print (\"Total number of deaths in US is: \"+str(sum))"
   ]
  },
  {
   "cell_type": "code",
   "execution_count": 81,
   "metadata": {},
   "outputs": [],
   "source": [
    "def total_sum(vari1,vari2,vari3):\n",
    "    k = 0\n",
    "    sum = 0\n",
    "    while (k < vari1):\n",
    "        sum = sum + vari2[vari3].iloc[k]\n",
    "        k = k + 1\n",
    "\n",
    "    return sum"
   ]
  },
  {
   "cell_type": "code",
   "execution_count": null,
   "metadata": {},
   "outputs": [],
   "source": [
    "print (total_sum(US_list_number, US_df, 'Deaths'))"
   ]
  },
  {
   "cell_type": "code",
   "execution_count": null,
   "metadata": {},
   "outputs": [],
   "source": [
    "\n"
   ]
  },
  {
   "cell_type": "code",
   "execution_count": null,
   "metadata": {},
   "outputs": [],
   "source": []
  },
  {
   "cell_type": "code",
   "execution_count": null,
   "metadata": {},
   "outputs": [],
   "source": [
    "korea_df['state']\n",
    "china_df = df [ df['Country/Region'] == \"China\"]\n",
    "kdeath_df = korea_df [ korea_df['state'] == 'deceased']"
   ]
  },
  {
   "cell_type": "code",
   "execution_count": null,
   "metadata": {},
   "outputs": [],
   "source": [
    "len(korea_df['sex']) "
   ]
  },
  {
   "cell_type": "code",
   "execution_count": null,
   "metadata": {},
   "outputs": [],
   "source": [
    "if (korea_df['sex'].iloc[1] == 'male'):\n",
    "    print ('yes')\n",
    "else:\n",
    "    print ('fail')"
   ]
  },
  {
   "cell_type": "code",
   "execution_count": null,
   "metadata": {},
   "outputs": [],
   "source": [
    "k = 0\n",
    "male_sum = 0\n",
    "female_sum = 0\n",
    "print ('hello')\n",
    "while (k < len(korea_df['sex'])):\n",
    "    if (korea_df['sex'].iloc[k] == 'male'):\n",
    "        male_sum = male_sum + 1\n",
    "        k = k + 1\n",
    "    elif (korea_df['sex'].iloc[k] == 'female'):\n",
    "        female_sum = female_sum + 1\n",
    "        k = k + 1\n",
    "    else:\n",
    "        k = k + 1\n"
   ]
  },
  {
   "cell_type": "code",
   "execution_count": null,
   "metadata": {},
   "outputs": [],
   "source": []
  }
 ],
 "metadata": {
  "kernelspec": {
   "display_name": "Python 3",
   "language": "python",
   "name": "python3"
  },
  "language_info": {
   "codemirror_mode": {
    "name": "ipython",
    "version": 3
   },
   "file_extension": ".py",
   "mimetype": "text/x-python",
   "name": "python",
   "nbconvert_exporter": "python",
   "pygments_lexer": "ipython3",
   "version": "3.7.6"
  }
 },
 "nbformat": 4,
 "nbformat_minor": 4
}
